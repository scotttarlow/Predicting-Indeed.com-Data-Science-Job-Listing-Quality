{
 "cells": [
  {
   "cell_type": "markdown",
   "metadata": {},
   "source": [
    "# Project 4: Predicting Indeed.com Data Science Job Listing Quality"
   ]
  },
  {
   "cell_type": "markdown",
   "metadata": {},
   "source": [
    "#### Problem Statement "
   ]
  },
  {
   "cell_type": "markdown",
   "metadata": {},
   "source": [
    "The goal of this project is to design a model that can decide if a \"data science\" job listing on indeed.com is a \"good\" job or \"bad\" job. A good job will be defined by if the job's salary is above the median for the data set, a bad job will have a salary below the median. The core of this model will be logicist regression, which will use words in the \"summary\" and \"title\" columns to predict if the job is above or below median salary. The accuracy of this model will be determined by reducing its false positive and false negative rate. "
   ]
  },
  {
   "cell_type": "markdown",
   "metadata": {},
   "source": [
    "#### Exploritory Data Analysis "
   ]
  },
  {
   "cell_type": "code",
   "execution_count": 1,
   "metadata": {
    "collapsed": false
   },
   "outputs": [],
   "source": [
    "#loading data \n",
    "import pandas as pd\n",
    "file_name = '~/dsi/DSI_Workspace/project-04/assets/indeed-scraped-job-postings.csv'\n",
    "df = pd.read_csv(file_name)"
   ]
  },
  {
   "cell_type": "code",
   "execution_count": 2,
   "metadata": {
    "collapsed": false
   },
   "outputs": [
    {
     "data": {
      "text/html": [
       "<div>\n",
       "<table border=\"1\" class=\"dataframe\">\n",
       "  <thead>\n",
       "    <tr style=\"text-align: right;\">\n",
       "      <th></th>\n",
       "      <th>city</th>\n",
       "      <th>company</th>\n",
       "      <th>salary</th>\n",
       "      <th>summary</th>\n",
       "      <th>title</th>\n",
       "      <th>parsed_salary</th>\n",
       "    </tr>\n",
       "  </thead>\n",
       "  <tbody>\n",
       "    <tr>\n",
       "      <th>0</th>\n",
       "      <td>Denver</td>\n",
       "      <td>Department Of The Interior</td>\n",
       "      <td>$76,341 - $99,243 a year</td>\n",
       "      <td>Would you like to join the more than 10,000 sc...</td>\n",
       "      <td>Statistician, GS-1350-12 (DEU-PERM-DS)</td>\n",
       "      <td>87792.0</td>\n",
       "    </tr>\n",
       "    <tr>\n",
       "      <th>1</th>\n",
       "      <td>Denver</td>\n",
       "      <td>Department Of The Interior</td>\n",
       "      <td>$71,012 - $99,243 a year</td>\n",
       "      <td>Investigate potential uses of geospatial data ...</td>\n",
       "      <td>Interdisciplinary Cartographer/Geographer - GS...</td>\n",
       "      <td>85127.5</td>\n",
       "    </tr>\n",
       "    <tr>\n",
       "      <th>2</th>\n",
       "      <td>Denver</td>\n",
       "      <td>Mental Health Center of Denver</td>\n",
       "      <td>$70,000 - $80,000 a year</td>\n",
       "      <td>Advise the Data Developer with regard to creat...</td>\n",
       "      <td>Financial Data Scientist</td>\n",
       "      <td>75000.0</td>\n",
       "    </tr>\n",
       "    <tr>\n",
       "      <th>3</th>\n",
       "      <td>Denver</td>\n",
       "      <td>Denver Public Schools</td>\n",
       "      <td>$62,712 - $75,255 a year</td>\n",
       "      <td>Portal managers on student outcome data report...</td>\n",
       "      <td>SENIOR RESEARCH ANALYST</td>\n",
       "      <td>68983.5</td>\n",
       "    </tr>\n",
       "    <tr>\n",
       "      <th>4</th>\n",
       "      <td>Denver</td>\n",
       "      <td>University of Colorado</td>\n",
       "      <td>$25,000 - $29,000 a year</td>\n",
       "      <td>Experience entering and manipulating data in a...</td>\n",
       "      <td>Animal Care I</td>\n",
       "      <td>27000.0</td>\n",
       "    </tr>\n",
       "  </tbody>\n",
       "</table>\n",
       "</div>"
      ],
      "text/plain": [
       "     city                         company                    salary  \\\n",
       "0  Denver      Department Of The Interior  $76,341 - $99,243 a year   \n",
       "1  Denver      Department Of The Interior  $71,012 - $99,243 a year   \n",
       "2  Denver  Mental Health Center of Denver  $70,000 - $80,000 a year   \n",
       "3  Denver           Denver Public Schools  $62,712 - $75,255 a year   \n",
       "4  Denver          University of Colorado  $25,000 - $29,000 a year   \n",
       "\n",
       "                                             summary  \\\n",
       "0  Would you like to join the more than 10,000 sc...   \n",
       "1  Investigate potential uses of geospatial data ...   \n",
       "2  Advise the Data Developer with regard to creat...   \n",
       "3  Portal managers on student outcome data report...   \n",
       "4  Experience entering and manipulating data in a...   \n",
       "\n",
       "                                               title  parsed_salary  \n",
       "0             Statistician, GS-1350-12 (DEU-PERM-DS)        87792.0  \n",
       "1  Interdisciplinary Cartographer/Geographer - GS...        85127.5  \n",
       "2                           Financial Data Scientist        75000.0  \n",
       "3                            SENIOR RESEARCH ANALYST        68983.5  \n",
       "4                                      Animal Care I        27000.0  "
      ]
     },
     "execution_count": 2,
     "metadata": {},
     "output_type": "execute_result"
    }
   ],
   "source": [
    "df.head()"
   ]
  },
  {
   "cell_type": "code",
   "execution_count": 3,
   "metadata": {
    "collapsed": false
   },
   "outputs": [
    {
     "data": {
      "text/plain": [
       "(413, 6)"
      ]
     },
     "execution_count": 3,
     "metadata": {},
     "output_type": "execute_result"
    }
   ],
   "source": [
    "df.shape"
   ]
  },
  {
   "cell_type": "markdown",
   "metadata": {},
   "source": [
    "The data set has 413 jobs, with city, salary, summary, title and parsed salary as its features. parsed_salary is the average yearly salary for the job from the salary range given in the salary column. Thus, parased_salary will be used to make the target vector.\n",
    "\n",
    "The approach that seems most proper to this problem is to use city, common words in summary and title columns as the feature set to predict our target vector, \"good\" or bad \"job\".\n",
    "\n",
    "Given the small size of this data set, feature selection should be limited to avoid adding in too much dimensionality to the model. "
   ]
  },
  {
   "cell_type": "markdown",
   "metadata": {},
   "source": [
    "#### Feature Engineering "
   ]
  },
  {
   "cell_type": "code",
   "execution_count": 4,
   "metadata": {
    "collapsed": false
   },
   "outputs": [],
   "source": [
    "#first deleting company,salary from data set\n",
    "del df['company']\n",
    "del df['salary']"
   ]
  },
  {
   "cell_type": "code",
   "execution_count": 5,
   "metadata": {
    "collapsed": false
   },
   "outputs": [],
   "source": [
    "#drop nans\n",
    "df = df.dropna()"
   ]
  },
  {
   "cell_type": "code",
   "execution_count": 6,
   "metadata": {
    "collapsed": false
   },
   "outputs": [
    {
     "data": {
      "text/plain": [
       "100000.0"
      ]
     },
     "execution_count": 6,
     "metadata": {},
     "output_type": "execute_result"
    }
   ],
   "source": [
    "#find median parsed_salary\n",
    "import numpy as np\n",
    "median_salary = np.median(df['parsed_salary'])\n",
    "median_salary"
   ]
  },
  {
   "cell_type": "markdown",
   "metadata": {},
   "source": [
    "The median salary in the listing is 100,000... very good! I am glad I decided to transition to this field. Now to create the feature matrix, 1 being above 100k, 2 being below."
   ]
  },
  {
   "cell_type": "code",
   "execution_count": 7,
   "metadata": {
    "collapsed": true
   },
   "outputs": [],
   "source": [
    "def create_target(salary):\n",
    "    if salary >= median_salary:\n",
    "        return 1\n",
    "    else:\n",
    "        return 0"
   ]
  },
  {
   "cell_type": "code",
   "execution_count": 8,
   "metadata": {
    "collapsed": true
   },
   "outputs": [],
   "source": [
    "df['job_quality'] = df['parsed_salary'].apply(create_target)"
   ]
  },
  {
   "cell_type": "code",
   "execution_count": 9,
   "metadata": {
    "collapsed": false
   },
   "outputs": [
    {
     "data": {
      "text/html": [
       "<div>\n",
       "<table border=\"1\" class=\"dataframe\">\n",
       "  <thead>\n",
       "    <tr style=\"text-align: right;\">\n",
       "      <th></th>\n",
       "      <th>city</th>\n",
       "      <th>summary</th>\n",
       "      <th>title</th>\n",
       "      <th>parsed_salary</th>\n",
       "      <th>job_quality</th>\n",
       "    </tr>\n",
       "  </thead>\n",
       "  <tbody>\n",
       "    <tr>\n",
       "      <th>0</th>\n",
       "      <td>Denver</td>\n",
       "      <td>Would you like to join the more than 10,000 sc...</td>\n",
       "      <td>Statistician, GS-1350-12 (DEU-PERM-DS)</td>\n",
       "      <td>87792.0</td>\n",
       "      <td>0</td>\n",
       "    </tr>\n",
       "    <tr>\n",
       "      <th>1</th>\n",
       "      <td>Denver</td>\n",
       "      <td>Investigate potential uses of geospatial data ...</td>\n",
       "      <td>Interdisciplinary Cartographer/Geographer - GS...</td>\n",
       "      <td>85127.5</td>\n",
       "      <td>0</td>\n",
       "    </tr>\n",
       "    <tr>\n",
       "      <th>2</th>\n",
       "      <td>Denver</td>\n",
       "      <td>Advise the Data Developer with regard to creat...</td>\n",
       "      <td>Financial Data Scientist</td>\n",
       "      <td>75000.0</td>\n",
       "      <td>0</td>\n",
       "    </tr>\n",
       "    <tr>\n",
       "      <th>3</th>\n",
       "      <td>Denver</td>\n",
       "      <td>Portal managers on student outcome data report...</td>\n",
       "      <td>SENIOR RESEARCH ANALYST</td>\n",
       "      <td>68983.5</td>\n",
       "      <td>0</td>\n",
       "    </tr>\n",
       "    <tr>\n",
       "      <th>4</th>\n",
       "      <td>Denver</td>\n",
       "      <td>Experience entering and manipulating data in a...</td>\n",
       "      <td>Animal Care I</td>\n",
       "      <td>27000.0</td>\n",
       "      <td>0</td>\n",
       "    </tr>\n",
       "    <tr>\n",
       "      <th>5</th>\n",
       "      <td>Denver</td>\n",
       "      <td>Functions largely independently but reports to...</td>\n",
       "      <td>Assistant Research Scientist - RADARS</td>\n",
       "      <td>93645.0</td>\n",
       "      <td>0</td>\n",
       "    </tr>\n",
       "    <tr>\n",
       "      <th>6</th>\n",
       "      <td>Denver</td>\n",
       "      <td>Assist research director, assistant research d...</td>\n",
       "      <td>Statistical Research Specialist</td>\n",
       "      <td>66654.0</td>\n",
       "      <td>0</td>\n",
       "    </tr>\n",
       "    <tr>\n",
       "      <th>7</th>\n",
       "      <td>Denver</td>\n",
       "      <td>Assist research director, assistant research d...</td>\n",
       "      <td>Statistical Research Scientist - RADARS</td>\n",
       "      <td>66654.0</td>\n",
       "      <td>0</td>\n",
       "    </tr>\n",
       "    <tr>\n",
       "      <th>8</th>\n",
       "      <td>Denver</td>\n",
       "      <td>And effective working relationships with physi...</td>\n",
       "      <td>Regulatory &amp; Compliance Manager</td>\n",
       "      <td>77500.0</td>\n",
       "      <td>0</td>\n",
       "    </tr>\n",
       "    <tr>\n",
       "      <th>9</th>\n",
       "      <td>Denver</td>\n",
       "      <td>We are looking for a Software Engineer/Data Sc...</td>\n",
       "      <td>Software Engineer/Data Scientist</td>\n",
       "      <td>130000.0</td>\n",
       "      <td>1</td>\n",
       "    </tr>\n",
       "    <tr>\n",
       "      <th>10</th>\n",
       "      <td>Denver</td>\n",
       "      <td>Extensive knowledge and experience analyzing s...</td>\n",
       "      <td>Global Marketing Manager - Ingredient and Scho...</td>\n",
       "      <td>85000.0</td>\n",
       "      <td>0</td>\n",
       "    </tr>\n",
       "    <tr>\n",
       "      <th>11</th>\n",
       "      <td>Denver</td>\n",
       "      <td>Preparing graphs and data profiles; Conduct li...</td>\n",
       "      <td>Geologist GS-1350-07/09 (DEU - TERM - JG)</td>\n",
       "      <td>55733.5</td>\n",
       "      <td>0</td>\n",
       "    </tr>\n",
       "    <tr>\n",
       "      <th>12</th>\n",
       "      <td>Denver</td>\n",
       "      <td>Data as appropriate; Primarily to clinical car...</td>\n",
       "      <td>Professional Research Assistant - Data Manager</td>\n",
       "      <td>43500.0</td>\n",
       "      <td>0</td>\n",
       "    </tr>\n",
       "    <tr>\n",
       "      <th>13</th>\n",
       "      <td>Denver</td>\n",
       "      <td>Ensures accurate data entry of tissue bank pat...</td>\n",
       "      <td>Professional Research Assistant - Tissue Bank ...</td>\n",
       "      <td>44250.0</td>\n",
       "      <td>0</td>\n",
       "    </tr>\n",
       "    <tr>\n",
       "      <th>14</th>\n",
       "      <td>Denver</td>\n",
       "      <td>DigitalGlobe's Geospatial Big Data (GBD) initi...</td>\n",
       "      <td>Platform Developer/Geospatial Big Data (Python)</td>\n",
       "      <td>105000.0</td>\n",
       "      <td>1</td>\n",
       "    </tr>\n",
       "    <tr>\n",
       "      <th>15</th>\n",
       "      <td>Denver</td>\n",
       "      <td>Investigator, Study Sponsor, FDA, Data and Saf...</td>\n",
       "      <td>Professional Research Assistant - Clinical Res...</td>\n",
       "      <td>47500.0</td>\n",
       "      <td>0</td>\n",
       "    </tr>\n",
       "    <tr>\n",
       "      <th>16</th>\n",
       "      <td>Denver</td>\n",
       "      <td>Doing all this with an exceptional group of so...</td>\n",
       "      <td>DevOps Engineer</td>\n",
       "      <td>170000.0</td>\n",
       "      <td>1</td>\n",
       "    </tr>\n",
       "    <tr>\n",
       "      <th>17</th>\n",
       "      <td>Austin</td>\n",
       "      <td>What are we looking for in this Data Scientist...</td>\n",
       "      <td>Data Scientist Programmer/Specialist</td>\n",
       "      <td>140000.0</td>\n",
       "      <td>1</td>\n",
       "    </tr>\n",
       "    <tr>\n",
       "      <th>18</th>\n",
       "      <td>Austin</td>\n",
       "      <td>Senior Deep Learning Data Scientist. Forecasti...</td>\n",
       "      <td>Senior Deep Learning Data Scientist</td>\n",
       "      <td>150000.0</td>\n",
       "      <td>1</td>\n",
       "    </tr>\n",
       "    <tr>\n",
       "      <th>19</th>\n",
       "      <td>Austin</td>\n",
       "      <td>At Emoters, we’re developing tiny, autonomous ...</td>\n",
       "      <td>Robotics software engineer (involves machine l...</td>\n",
       "      <td>85000.0</td>\n",
       "      <td>0</td>\n",
       "    </tr>\n",
       "  </tbody>\n",
       "</table>\n",
       "</div>"
      ],
      "text/plain": [
       "      city                                            summary  \\\n",
       "0   Denver  Would you like to join the more than 10,000 sc...   \n",
       "1   Denver  Investigate potential uses of geospatial data ...   \n",
       "2   Denver  Advise the Data Developer with regard to creat...   \n",
       "3   Denver  Portal managers on student outcome data report...   \n",
       "4   Denver  Experience entering and manipulating data in a...   \n",
       "5   Denver  Functions largely independently but reports to...   \n",
       "6   Denver  Assist research director, assistant research d...   \n",
       "7   Denver  Assist research director, assistant research d...   \n",
       "8   Denver  And effective working relationships with physi...   \n",
       "9   Denver  We are looking for a Software Engineer/Data Sc...   \n",
       "10  Denver  Extensive knowledge and experience analyzing s...   \n",
       "11  Denver  Preparing graphs and data profiles; Conduct li...   \n",
       "12  Denver  Data as appropriate; Primarily to clinical car...   \n",
       "13  Denver  Ensures accurate data entry of tissue bank pat...   \n",
       "14  Denver  DigitalGlobe's Geospatial Big Data (GBD) initi...   \n",
       "15  Denver  Investigator, Study Sponsor, FDA, Data and Saf...   \n",
       "16  Denver  Doing all this with an exceptional group of so...   \n",
       "17  Austin  What are we looking for in this Data Scientist...   \n",
       "18  Austin  Senior Deep Learning Data Scientist. Forecasti...   \n",
       "19  Austin  At Emoters, we’re developing tiny, autonomous ...   \n",
       "\n",
       "                                                title  parsed_salary  \\\n",
       "0              Statistician, GS-1350-12 (DEU-PERM-DS)        87792.0   \n",
       "1   Interdisciplinary Cartographer/Geographer - GS...        85127.5   \n",
       "2                            Financial Data Scientist        75000.0   \n",
       "3                             SENIOR RESEARCH ANALYST        68983.5   \n",
       "4                                       Animal Care I        27000.0   \n",
       "5               Assistant Research Scientist - RADARS        93645.0   \n",
       "6                     Statistical Research Specialist        66654.0   \n",
       "7             Statistical Research Scientist - RADARS        66654.0   \n",
       "8                     Regulatory & Compliance Manager        77500.0   \n",
       "9                    Software Engineer/Data Scientist       130000.0   \n",
       "10  Global Marketing Manager - Ingredient and Scho...        85000.0   \n",
       "11          Geologist GS-1350-07/09 (DEU - TERM - JG)        55733.5   \n",
       "12     Professional Research Assistant - Data Manager        43500.0   \n",
       "13  Professional Research Assistant - Tissue Bank ...        44250.0   \n",
       "14    Platform Developer/Geospatial Big Data (Python)       105000.0   \n",
       "15  Professional Research Assistant - Clinical Res...        47500.0   \n",
       "16                                    DevOps Engineer       170000.0   \n",
       "17               Data Scientist Programmer/Specialist       140000.0   \n",
       "18                Senior Deep Learning Data Scientist       150000.0   \n",
       "19  Robotics software engineer (involves machine l...        85000.0   \n",
       "\n",
       "    job_quality  \n",
       "0             0  \n",
       "1             0  \n",
       "2             0  \n",
       "3             0  \n",
       "4             0  \n",
       "5             0  \n",
       "6             0  \n",
       "7             0  \n",
       "8             0  \n",
       "9             1  \n",
       "10            0  \n",
       "11            0  \n",
       "12            0  \n",
       "13            0  \n",
       "14            1  \n",
       "15            0  \n",
       "16            1  \n",
       "17            1  \n",
       "18            1  \n",
       "19            0  "
      ]
     },
     "execution_count": 9,
     "metadata": {},
     "output_type": "execute_result"
    }
   ],
   "source": [
    "#check to see if function worked\n",
    "df.head(20)"
   ]
  },
  {
   "cell_type": "markdown",
   "metadata": {},
   "source": [
    "Now we can create the feature matrix, first we will create dummy variables for each city."
   ]
  },
  {
   "cell_type": "code",
   "execution_count": 10,
   "metadata": {
    "collapsed": false
   },
   "outputs": [],
   "source": [
    "#first build dummy variables for each city\n",
    "df = pd.get_dummies(df,columns=['city'])"
   ]
  },
  {
   "cell_type": "markdown",
   "metadata": {},
   "source": [
    "Next we can find the 10 most fequently used words in the summary column. I am choosing 10 to avoid dimensionality. SKlearn's CountVecotrizer can accomplish this, eliminating \"stop words\". "
   ]
  },
  {
   "cell_type": "code",
   "execution_count": 11,
   "metadata": {
    "collapsed": false
   },
   "outputs": [
    {
     "data": {
      "text/plain": [
       "{u'analysis': 0,\n",
       " u'analytics': 1,\n",
       " u'data': 2,\n",
       " u'experience': 3,\n",
       " u'looking': 4,\n",
       " u'research': 5,\n",
       " u'scientist': 6,\n",
       " u'scientists': 7,\n",
       " u'senior': 8,\n",
       " u'team': 9}"
      ]
     },
     "execution_count": 11,
     "metadata": {},
     "output_type": "execute_result"
    }
   ],
   "source": [
    "from sklearn.feature_extraction.text import CountVectorizer\n",
    "words = CountVectorizer(max_features=10,stop_words='english')\n",
    "words.fit_transform(df.summary)\n",
    "words.vocabulary_"
   ]
  },
  {
   "cell_type": "markdown",
   "metadata": {},
   "source": [
    "Check to see if word is in summary, 1 if it is, 0 if it isn't, compile into dictionary of lists. Because of a decoding error when doing the traditional method, I had to do this by hand in a loop, using the str.decode function. I am not sure why traditional strings were messed up in the data set. Anyway, this gets past this error and gets a dictionary of dummy variables that I can merge with the data frame."
   ]
  },
  {
   "cell_type": "code",
   "execution_count": 12,
   "metadata": {
    "collapsed": false
   },
   "outputs": [],
   "source": [
    "words_summary = {}\n",
    "for word in words.vocabulary_.keys():\n",
    "    words_summary['summary_' + word] = []\n",
    "    for summary in df.summary:\n",
    "        summary = summary.decode(encoding='UTF-8',errors='strict')\n",
    "        if word in summary.lower():\n",
    "            words_summary['summary_'+ word].append(1)\n",
    "        else:\n",
    "            words_summary['summary_'+ word].append(0)\n",
    "\n",
    "words_summary = pd.DataFrame(words_summary)\n",
    "df_with_summaries = pd.concat([df,words_summary],axis=1)\n",
    "del df_with_summaries['summary']"
   ]
  },
  {
   "cell_type": "code",
   "execution_count": 13,
   "metadata": {
    "collapsed": false
   },
   "outputs": [
    {
     "data": {
      "text/html": [
       "<div>\n",
       "<table border=\"1\" class=\"dataframe\">\n",
       "  <thead>\n",
       "    <tr style=\"text-align: right;\">\n",
       "      <th></th>\n",
       "      <th>title</th>\n",
       "      <th>parsed_salary</th>\n",
       "      <th>job_quality</th>\n",
       "      <th>city_Atlanta</th>\n",
       "      <th>city_Austin</th>\n",
       "      <th>city_Boston</th>\n",
       "      <th>city_Chicago</th>\n",
       "      <th>city_Dallas</th>\n",
       "      <th>city_Denver</th>\n",
       "      <th>city_Houston</th>\n",
       "      <th>...</th>\n",
       "      <th>summary_analysis</th>\n",
       "      <th>summary_analytics</th>\n",
       "      <th>summary_data</th>\n",
       "      <th>summary_experience</th>\n",
       "      <th>summary_looking</th>\n",
       "      <th>summary_research</th>\n",
       "      <th>summary_scientist</th>\n",
       "      <th>summary_scientists</th>\n",
       "      <th>summary_senior</th>\n",
       "      <th>summary_team</th>\n",
       "    </tr>\n",
       "  </thead>\n",
       "  <tbody>\n",
       "    <tr>\n",
       "      <th>0</th>\n",
       "      <td>Statistician, GS-1350-12 (DEU-PERM-DS)</td>\n",
       "      <td>87792.0</td>\n",
       "      <td>0.0</td>\n",
       "      <td>0.0</td>\n",
       "      <td>0.0</td>\n",
       "      <td>0.0</td>\n",
       "      <td>0.0</td>\n",
       "      <td>0.0</td>\n",
       "      <td>1.0</td>\n",
       "      <td>0.0</td>\n",
       "      <td>...</td>\n",
       "      <td>0.0</td>\n",
       "      <td>0.0</td>\n",
       "      <td>0.0</td>\n",
       "      <td>0.0</td>\n",
       "      <td>0.0</td>\n",
       "      <td>0.0</td>\n",
       "      <td>1.0</td>\n",
       "      <td>1.0</td>\n",
       "      <td>0.0</td>\n",
       "      <td>0.0</td>\n",
       "    </tr>\n",
       "    <tr>\n",
       "      <th>1</th>\n",
       "      <td>Interdisciplinary Cartographer/Geographer - GS...</td>\n",
       "      <td>85127.5</td>\n",
       "      <td>0.0</td>\n",
       "      <td>0.0</td>\n",
       "      <td>0.0</td>\n",
       "      <td>0.0</td>\n",
       "      <td>0.0</td>\n",
       "      <td>0.0</td>\n",
       "      <td>1.0</td>\n",
       "      <td>0.0</td>\n",
       "      <td>...</td>\n",
       "      <td>0.0</td>\n",
       "      <td>0.0</td>\n",
       "      <td>1.0</td>\n",
       "      <td>0.0</td>\n",
       "      <td>0.0</td>\n",
       "      <td>0.0</td>\n",
       "      <td>0.0</td>\n",
       "      <td>0.0</td>\n",
       "      <td>0.0</td>\n",
       "      <td>0.0</td>\n",
       "    </tr>\n",
       "    <tr>\n",
       "      <th>2</th>\n",
       "      <td>Financial Data Scientist</td>\n",
       "      <td>75000.0</td>\n",
       "      <td>0.0</td>\n",
       "      <td>0.0</td>\n",
       "      <td>0.0</td>\n",
       "      <td>0.0</td>\n",
       "      <td>0.0</td>\n",
       "      <td>0.0</td>\n",
       "      <td>1.0</td>\n",
       "      <td>0.0</td>\n",
       "      <td>...</td>\n",
       "      <td>0.0</td>\n",
       "      <td>0.0</td>\n",
       "      <td>1.0</td>\n",
       "      <td>0.0</td>\n",
       "      <td>0.0</td>\n",
       "      <td>0.0</td>\n",
       "      <td>0.0</td>\n",
       "      <td>0.0</td>\n",
       "      <td>0.0</td>\n",
       "      <td>0.0</td>\n",
       "    </tr>\n",
       "    <tr>\n",
       "      <th>3</th>\n",
       "      <td>SENIOR RESEARCH ANALYST</td>\n",
       "      <td>68983.5</td>\n",
       "      <td>0.0</td>\n",
       "      <td>0.0</td>\n",
       "      <td>0.0</td>\n",
       "      <td>0.0</td>\n",
       "      <td>0.0</td>\n",
       "      <td>0.0</td>\n",
       "      <td>1.0</td>\n",
       "      <td>0.0</td>\n",
       "      <td>...</td>\n",
       "      <td>0.0</td>\n",
       "      <td>0.0</td>\n",
       "      <td>1.0</td>\n",
       "      <td>0.0</td>\n",
       "      <td>0.0</td>\n",
       "      <td>1.0</td>\n",
       "      <td>0.0</td>\n",
       "      <td>0.0</td>\n",
       "      <td>1.0</td>\n",
       "      <td>0.0</td>\n",
       "    </tr>\n",
       "    <tr>\n",
       "      <th>4</th>\n",
       "      <td>Animal Care I</td>\n",
       "      <td>27000.0</td>\n",
       "      <td>0.0</td>\n",
       "      <td>0.0</td>\n",
       "      <td>0.0</td>\n",
       "      <td>0.0</td>\n",
       "      <td>0.0</td>\n",
       "      <td>0.0</td>\n",
       "      <td>1.0</td>\n",
       "      <td>0.0</td>\n",
       "      <td>...</td>\n",
       "      <td>0.0</td>\n",
       "      <td>0.0</td>\n",
       "      <td>1.0</td>\n",
       "      <td>1.0</td>\n",
       "      <td>0.0</td>\n",
       "      <td>1.0</td>\n",
       "      <td>1.0</td>\n",
       "      <td>1.0</td>\n",
       "      <td>0.0</td>\n",
       "      <td>0.0</td>\n",
       "    </tr>\n",
       "  </tbody>\n",
       "</table>\n",
       "<p>5 rows × 31 columns</p>\n",
       "</div>"
      ],
      "text/plain": [
       "                                               title  parsed_salary  \\\n",
       "0             Statistician, GS-1350-12 (DEU-PERM-DS)        87792.0   \n",
       "1  Interdisciplinary Cartographer/Geographer - GS...        85127.5   \n",
       "2                           Financial Data Scientist        75000.0   \n",
       "3                            SENIOR RESEARCH ANALYST        68983.5   \n",
       "4                                      Animal Care I        27000.0   \n",
       "\n",
       "   job_quality  city_Atlanta  city_Austin  city_Boston  city_Chicago  \\\n",
       "0          0.0           0.0          0.0          0.0           0.0   \n",
       "1          0.0           0.0          0.0          0.0           0.0   \n",
       "2          0.0           0.0          0.0          0.0           0.0   \n",
       "3          0.0           0.0          0.0          0.0           0.0   \n",
       "4          0.0           0.0          0.0          0.0           0.0   \n",
       "\n",
       "   city_Dallas  city_Denver  city_Houston      ...       summary_analysis  \\\n",
       "0          0.0          1.0           0.0      ...                    0.0   \n",
       "1          0.0          1.0           0.0      ...                    0.0   \n",
       "2          0.0          1.0           0.0      ...                    0.0   \n",
       "3          0.0          1.0           0.0      ...                    0.0   \n",
       "4          0.0          1.0           0.0      ...                    0.0   \n",
       "\n",
       "   summary_analytics  summary_data  summary_experience  summary_looking  \\\n",
       "0                0.0           0.0                 0.0              0.0   \n",
       "1                0.0           1.0                 0.0              0.0   \n",
       "2                0.0           1.0                 0.0              0.0   \n",
       "3                0.0           1.0                 0.0              0.0   \n",
       "4                0.0           1.0                 1.0              0.0   \n",
       "\n",
       "   summary_research  summary_scientist  summary_scientists  summary_senior  \\\n",
       "0               0.0                1.0                 1.0             0.0   \n",
       "1               0.0                0.0                 0.0             0.0   \n",
       "2               0.0                0.0                 0.0             0.0   \n",
       "3               1.0                0.0                 0.0             1.0   \n",
       "4               1.0                1.0                 1.0             0.0   \n",
       "\n",
       "   summary_team  \n",
       "0           0.0  \n",
       "1           0.0  \n",
       "2           0.0  \n",
       "3           0.0  \n",
       "4           0.0  \n",
       "\n",
       "[5 rows x 31 columns]"
      ]
     },
     "execution_count": 13,
     "metadata": {},
     "output_type": "execute_result"
    }
   ],
   "source": [
    "df_with_summaries.head()"
   ]
  },
  {
   "cell_type": "markdown",
   "metadata": {},
   "source": [
    "Now finding the five most frequently used words in title and adding them to features just like summary"
   ]
  },
  {
   "cell_type": "code",
   "execution_count": 14,
   "metadata": {
    "collapsed": false
   },
   "outputs": [],
   "source": [
    "df_with_summaries = df_with_summaries.dropna()"
   ]
  },
  {
   "cell_type": "code",
   "execution_count": 15,
   "metadata": {
    "collapsed": false
   },
   "outputs": [
    {
     "data": {
      "text/plain": [
       "{u'analyst': 0, u'data': 1, u'research': 2, u'scientist': 3, u'senior': 4}"
      ]
     },
     "execution_count": 15,
     "metadata": {},
     "output_type": "execute_result"
    }
   ],
   "source": [
    "new_words = CountVectorizer(max_features=5,stop_words='english')\n",
    "new_words.fit_transform(df_with_summaries.title)\n",
    "new_words.vocabulary_"
   ]
  },
  {
   "cell_type": "code",
   "execution_count": 16,
   "metadata": {
    "collapsed": false
   },
   "outputs": [],
   "source": [
    "words_title = {}\n",
    "for word in new_words.vocabulary_.keys():\n",
    "    words_title['title_' + word] = []\n",
    "    for title in df_with_summaries.title:\n",
    "        title = title.decode(encoding='UTF-8',errors='strict')\n",
    "        if word in title.lower():\n",
    "            words_title['title_'+ word].append(1)\n",
    "        else:\n",
    "            words_title['title_'+ word].append(0)\n",
    "\n",
    "words_title = pd.DataFrame(words_title)\n",
    "df_with_summaries_titles = pd.concat([df_with_summaries,words_title],axis=1)\n",
    "del df_with_summaries_titles['title']"
   ]
  },
  {
   "cell_type": "code",
   "execution_count": 17,
   "metadata": {
    "collapsed": false
   },
   "outputs": [],
   "source": [
    "df_with_summaries_titles = df_with_summaries_titles.dropna()"
   ]
  },
  {
   "cell_type": "markdown",
   "metadata": {},
   "source": [
    "Now that feature engineering is complete, can make final target and feature matrix to get ready for feature selection"
   ]
  },
  {
   "cell_type": "code",
   "execution_count": 18,
   "metadata": {
    "collapsed": true
   },
   "outputs": [],
   "source": [
    "y = df_with_summaries_titles['job_quality']\n",
    "del df_with_summaries_titles['job_quality']\n",
    "del df_with_summaries_titles['parsed_salary']\n",
    "X = df_with_summaries_titles"
   ]
  },
  {
   "cell_type": "markdown",
   "metadata": {},
   "source": [
    "#### Feature Selection and Modeling"
   ]
  },
  {
   "cell_type": "markdown",
   "metadata": {},
   "source": [
    "First, we need to import all the things for modeling, scaling isn't needed since everything is catagorical variables"
   ]
  },
  {
   "cell_type": "code",
   "execution_count": 19,
   "metadata": {
    "collapsed": true
   },
   "outputs": [],
   "source": [
    "from sklearn.model_selection import train_test_split\n",
    "from sklearn.feature_selection import RFE\n",
    "from sklearn.model_selection import GridSearchCV\n",
    "from sklearn.linear_model import LogisticRegression"
   ]
  },
  {
   "cell_type": "markdown",
   "metadata": {},
   "source": [
    "Splitting training set and testing set"
   ]
  },
  {
   "cell_type": "code",
   "execution_count": 20,
   "metadata": {
    "collapsed": true
   },
   "outputs": [],
   "source": [
    "X_train, X_test, y_train, y_test = train_test_split(X,y,random_state=0,test_size = 0.30)"
   ]
  },
  {
   "cell_type": "markdown",
   "metadata": {},
   "source": [
    "Using RFE (which estimates the coefficents of a linear model, perfect for logistic regression) to select the  best parameters."
   ]
  },
  {
   "cell_type": "code",
   "execution_count": 21,
   "metadata": {
    "collapsed": true
   },
   "outputs": [],
   "source": [
    "classifier = LogisticRegression()\n",
    "rfe = RFE(classifier)"
   ]
  },
  {
   "cell_type": "markdown",
   "metadata": {},
   "source": [
    "Apply grid search to RFE, going over # of paramters to select to find optimal paramaters."
   ]
  },
  {
   "cell_type": "code",
   "execution_count": 22,
   "metadata": {
    "collapsed": false
   },
   "outputs": [],
   "source": [
    "num_of_Features = np.linspace(1,33,33)#optimal number of features, feature set has 33"
   ]
  },
  {
   "cell_type": "code",
   "execution_count": 23,
   "metadata": {
    "collapsed": false
   },
   "outputs": [],
   "source": [
    "parameters = {'n_features_to_select':num_of_Features}\n",
    "logistic_RFE_grid = GridSearchCV(rfe,parameters)"
   ]
  },
  {
   "cell_type": "code",
   "execution_count": 24,
   "metadata": {
    "collapsed": false
   },
   "outputs": [
    {
     "data": {
      "text/plain": [
       "GridSearchCV(cv=None, error_score='raise',\n",
       "       estimator=RFE(estimator=LogisticRegression(C=1.0, class_weight=None, dual=False, fit_intercept=True,\n",
       "          intercept_scaling=1, max_iter=100, multi_class='ovr', n_jobs=1,\n",
       "          penalty='l2', random_state=None, solver='liblinear', tol=0.0001,\n",
       "          verbose=0, warm_start=False),\n",
       "  n_features_to_select=None, step=1, verbose=0),\n",
       "       fit_params={}, iid=True, n_jobs=1,\n",
       "       param_grid={'n_features_to_select': array([  1.,   2.,   3.,   4.,   5.,   6.,   7.,   8.,   9.,  10.,  11.,\n",
       "        12.,  13.,  14.,  15.,  16.,  17.,  18.,  19.,  20.,  21.,  22.,\n",
       "        23.,  24.,  25.,  26.,  27.,  28.,  29.,  30.,  31.,  32.,  33.])},\n",
       "       pre_dispatch='2*n_jobs', refit=True, return_train_score=True,\n",
       "       scoring=None, verbose=0)"
      ]
     },
     "execution_count": 24,
     "metadata": {},
     "output_type": "execute_result"
    }
   ],
   "source": [
    "logistic_RFE_grid.fit(X_train,y_train)"
   ]
  },
  {
   "cell_type": "code",
   "execution_count": 25,
   "metadata": {
    "collapsed": false
   },
   "outputs": [
    {
     "name": "stdout",
     "output_type": "stream",
     "text": [
      "training score 0.733576642336\n",
      "test score 0.677966101695\n"
     ]
    }
   ],
   "source": [
    "print \"training score\", logistic_RFE_grid.score(X_train,y_train)\n",
    "print \"test score\", logistic_RFE_grid.score(X_test,y_test)"
   ]
  },
  {
   "cell_type": "markdown",
   "metadata": {},
   "source": [
    "A training score of about 73% accuracy, and a test score of about 68% accuracy. I am satisfied with these scores given the entire data set is so small. I think this validates my approach as a sensible one."
   ]
  },
  {
   "cell_type": "markdown",
   "metadata": {},
   "source": [
    "#### Model Validation"
   ]
  },
  {
   "cell_type": "markdown",
   "metadata": {},
   "source": [
    "While the test score certainly validates its accuracy, we still want to look at the the confusion matrix/ROC curve to further validate the model's accuracy. Below is a plot of the contigency matrix"
   ]
  },
  {
   "cell_type": "code",
   "execution_count": 28,
   "metadata": {
    "collapsed": false
   },
   "outputs": [],
   "source": [
    "y_pred = logistic_RFE_grid.predict(X_test)"
   ]
  },
  {
   "cell_type": "code",
   "execution_count": 29,
   "metadata": {
    "collapsed": true
   },
   "outputs": [],
   "source": [
    "from sklearn.metrics import confusion_matrix\n",
    "confusion = confusion_matrix(y_test,y_pred)"
   ]
  },
  {
   "cell_type": "code",
   "execution_count": 31,
   "metadata": {
    "collapsed": false
   },
   "outputs": [],
   "source": [
    "import matplotlib.pyplot as plt\n",
    "import seaborn as sns\n",
    "%matplotlib inline"
   ]
  },
  {
   "cell_type": "code",
   "execution_count": 37,
   "metadata": {
    "collapsed": true
   },
   "outputs": [],
   "source": [
    "import itertools\n",
    "def plot_confusion_matrix(cm, classes,\n",
    "                          normalize=False,\n",
    "                          title='Confusion matrix',\n",
    "                          cmap=plt.cm.Blues):\n",
    "    \"\"\"\n",
    "    This function prints and plots the confusion matrix.\n",
    "    Normalization can be applied by setting `normalize=True`.\n",
    "    \"\"\"\n",
    "    plt.imshow(cm, interpolation='nearest', cmap=cmap)\n",
    "    plt.title(title)\n",
    "    plt.colorbar()\n",
    "    tick_marks = np.arange(len(classes))\n",
    "    plt.xticks(tick_marks, classes, rotation=45)\n",
    "    plt.yticks(tick_marks, classes)\n",
    "\n",
    "    if normalize:\n",
    "        cm = cm.astype('float') / cm.sum(axis=1)[:, np.newaxis]\n",
    "        print(\"Normalized confusion matrix\")\n",
    "    else:\n",
    "        print('Confusion matrix, without normalization')\n",
    "\n",
    "    print(cm)\n",
    "\n",
    "    thresh = cm.max() / 2.\n",
    "    for i, j in itertools.product(range(cm.shape[0]), range(cm.shape[1])):\n",
    "        plt.text(j, i, cm[i, j],\n",
    "                 horizontalalignment=\"center\",\n",
    "                 color=\"white\" if cm[i, j] > thresh else \"black\")\n",
    "\n",
    "    plt.tight_layout()\n",
    "    plt.ylabel('True label')\n",
    "    plt.xlabel('Predicted label')"
   ]
  },
  {
   "cell_type": "code",
   "execution_count": 38,
   "metadata": {
    "collapsed": false
   },
   "outputs": [
    {
     "name": "stdout",
     "output_type": "stream",
     "text": [
      "Normalized confusion matrix\n",
      "[[ 0.6         0.4       ]\n",
      " [ 0.25396825  0.74603175]]\n"
     ]
    },
    {
     "data": {
      "image/png": "[encoded data removed]",
      "text/plain": [
       "<matplotlib.figure.Figure at 0x119e38e50>"
      ]
     },
     "metadata": {},
     "output_type": "display_data"
    }
   ],
   "source": [
    "plt.figure()\n",
    "plot_confusion_matrix(confusion, classes=['Good Job','Bad Job'], normalize=True,\n",
    "                      title='Normalized confusion matrix')\n"
   ]
  },
  {
   "cell_type": "markdown",
   "metadata": {},
   "source": [
    "Digging a bit deeper, The model makes a \"True\" good job prediction 60% of the time, and a \"False\" good job prediction 40% of the time. Also, the model makes a \"false\" bad job prediction 25.3% of the time and a \"True\" Bad Job prediction 74.6% of the time. I think these results are acceptable, as the data set is so small it is hard to not to False Positives and False Negatives. Since this is a binary classifier, our baseline (without the logistic regression) accuracy would expect to be 50%, like a coin-flip. This model predicts Good Jobs and Bad jobs significantly better, despite the small data set."
   ]
  },
  {
   "cell_type": "markdown",
   "metadata": {},
   "source": [
    "Now we plot the roc curve"
   ]
  },
  {
   "cell_type": "code",
   "execution_count": 51,
   "metadata": {
    "collapsed": false
   },
   "outputs": [
    {
     "data": {
      "image/png": "[encoded data removed]",
      "text/plain": [
       "<matplotlib.figure.Figure at 0x119c94c10>"
      ]
     },
     "metadata": {},
     "output_type": "display_data"
    }
   ],
   "source": [
    "from sklearn.metrics import roc_curve, auc\n",
    "\n",
    "\n",
    "# roc_curve returns the false positive rate and true positive rates as the threshold changes\n",
    "# takes in the y and the predicted probabilities of the positive class from your model.\n",
    "fpr_lr, tpr_lr, _ = roc_curve(y_test, y_pred)\n",
    "roc_auc_lr = auc(fpr_lr, tpr_lr)\n",
    "\n",
    "\n",
    "\n",
    "plt.figure(figsize=[7,6])\n",
    "plt.plot(fpr_lr, tpr_lr, label='logreg ROC curve (area = %0.2f)' % roc_auc_lr, \n",
    "         linewidth=4, color='darkred')\n",
    "plt.plot([0, 1], [0, 1], 'k--', linewidth=4)\n",
    "plt.xlim([0.0, 1.0])\n",
    "plt.ylim([0.0, 1.05])\n",
    "plt.xlabel('False Positive Rate', fontsize=16)\n",
    "plt.ylabel('True Positive Rate', fontsize=16)\n",
    "plt.title('Receiver operating characteristic curve', fontsize=20)\n",
    "plt.legend(loc=\"lower right\")\n",
    "plt.show()"
   ]
  },
  {
   "cell_type": "markdown",
   "metadata": {},
   "source": [
    "The ROC curve confirms what the confusion matrix does: The Area (0.67) is greater than our baseline (0.5) which means overall this model predicts better than our baseline accuracy. "
   ]
  },
  {
   "cell_type": "markdown",
   "metadata": {},
   "source": [
    "#### Conclusions"
   ]
  },
  {
   "cell_type": "code",
   "execution_count": 55,
   "metadata": {
    "collapsed": false
   },
   "outputs": [
    {
     "data": {
      "text/plain": [
       "Index([       u'city_Boston',        u'city_Dallas',       u'city_Houston',\n",
       "         u'city_Los+Angeles',         u'city_Miami',     u'city_Palo+Alto',\n",
       "             u'city_Phoenix',    u'city_Pittsburgh',      u'city_Portland',\n",
       "       u'city_San+Francisco',  u'summary_analytics',   u'summary_research',\n",
       "           u'summary_senior',         u'title_data',       u'title_senior'],\n",
       "      dtype='object')"
      ]
     },
     "execution_count": 55,
     "metadata": {},
     "output_type": "execute_result"
    }
   ],
   "source": [
    "X_train.columns[logistic_RFE_grid.best_estimator_.support_]"
   ]
  },
  {
   "cell_type": "code",
   "execution_count": 56,
   "metadata": {
    "collapsed": false
   },
   "outputs": [
    {
     "data": {
      "text/plain": [
       "15"
      ]
     },
     "execution_count": 56,
     "metadata": {},
     "output_type": "execute_result"
    }
   ],
   "source": [
    "len(X_train.columns[logistic_RFE_grid.best_estimator_.support_])"
   ]
  },
  {
   "cell_type": "markdown",
   "metadata": {},
   "source": [
    "As stated before, the model predicted our test set with about 68% accuracy, greater than our baseline.  This was further validated through looking at both the confusion matrix and ROC curve. Furthermore, the optimal logistic regression model had 15 features (instead of the 33 kept). The best predictors (not in order are) if the job is in Boston, Dallas, Houston, Los Angeles, Miami, Palo Alto, Phoenix, Pittsburg, Portland or San Fransisco. In terms of the summary features, if the summary had the words analytics, research, or senior (or a combination of the 3) it proved to be a strong predictor. Finally, if the listing had in the title, data, senior or a combination of the both, it was a strong predictor if it was a good job or not. \n",
    "\n",
    "With more data, I think It would be pretty easy to get a much more accurate model, this is what should be focused on for future work."
   ]
  }
 ],
 "metadata": {
  "anaconda-cloud": {},
  "kernelspec": {
   "display_name": "Python [default]",
   "language": "python",
   "name": "python2"
  },
  "language_info": {
   "codemirror_mode": {
    "name": "ipython",
    "version": 2
   },
   "file_extension": ".py",
   "mimetype": "text/x-python",
   "name": "python",
   "nbconvert_exporter": "python",
   "pygments_lexer": "ipython2",
   "version": "2.7.12"
  }
 },
 "nbformat": 4,
 "nbformat_minor": 1
}
